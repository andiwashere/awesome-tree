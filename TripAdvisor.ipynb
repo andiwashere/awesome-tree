{
 "cells": [
  {
   "cell_type": "code",
   "execution_count": 1,
   "metadata": {},
   "outputs": [],
   "source": [
    "%load_ext autoreload\n",
    "%autoreload 2"
   ]
  },
  {
   "cell_type": "code",
   "execution_count": 2,
   "metadata": {},
   "outputs": [],
   "source": [
    "import sys\n",
    "sys.path.append(\"src/\")"
   ]
  },
  {
   "cell_type": "code",
   "execution_count": 3,
   "metadata": {},
   "outputs": [],
   "source": [
    "from datasets.tripadvisor import TripAdvisorDataset\n",
    "\n",
    "dataset = TripAdvisorDataset(\n",
    "        text_processor='word2vec', \n",
    "        text_processor_filters=['lowercase', 'stopwordsfilter'],\n",
    "        embedding_path='data/embeddings/word2vec/glove.6B.50d.txt',\n",
    "        data_path='data/'\n",
    "        )"
   ]
  },
  {
   "cell_type": "markdown",
   "metadata": {},
   "source": [
    "### Dawid-Skene"
   ]
  },
  {
   "cell_type": "code",
   "execution_count": 4,
   "metadata": {},
   "outputs": [],
   "source": [
    "import models.dawid_skene as ds"
   ]
  },
  {
   "cell_type": "markdown",
   "metadata": {},
   "source": [
    "#### Prepare data"
   ]
  },
  {
   "cell_type": "code",
   "execution_count": 5,
   "metadata": {},
   "outputs": [],
   "source": [
    "def prepare_input(dataset, female_model, male_model, missing_value=-1):\n",
    "    data = {}\n",
    "    for data_point in dataset:\n",
    "        annotator = data_point['annotator']\n",
    "        question = data_point['text']\n",
    "        annotation = data_point['label'].item()\n",
    "        \n",
    "        data[question] = {}\n",
    "        #data[question]['truth'] =  [ annotation ]\n",
    "        data[question]['female'] = [ female_model(data_point['embedding']).argmax().item() ]\n",
    "        data[question]['male'] =   [ male_model(data_point['embedding']).argmax().item() ]\n",
    "    return data"
   ]
  },
  {
   "cell_type": "markdown",
   "metadata": {},
   "source": [
    "#### Load Pretrained Male, Female Models"
   ]
  },
  {
   "cell_type": "code",
   "execution_count": 6,
   "metadata": {},
   "outputs": [],
   "source": [
    "import torch"
   ]
  },
  {
   "cell_type": "code",
   "execution_count": 7,
   "metadata": {},
   "outputs": [],
   "source": [
    "def load_model_for_inference(path):\n",
    "    from models.basic import BasicNetwork\n",
    "    model = BasicNetwork(embedding_dim=50, label_dim=2)\n",
    "    model.load_state_dict(torch.load(path, map_location=torch.device('cpu')))\n",
    "    model.eval()\n",
    "    \n",
    "    return model"
   ]
  },
  {
   "cell_type": "code",
   "execution_count": 8,
   "metadata": {},
   "outputs": [],
   "source": [
    "male_model_path = 'models/tripadvisor_pad100/male_basic_0.89060_batch64_lr8.299248182022548e-05_20200925-075432.pt'\n",
    "female_model_path = 'models/tripadvisor_pad100/female_basic_0.89038_batch64_lr0.0003306989309627488_20200924-222149.pt'"
   ]
  },
  {
   "cell_type": "code",
   "execution_count": 9,
   "metadata": {},
   "outputs": [],
   "source": [
    "male_model = load_model_for_inference(male_model_path)\n",
    "female_model = load_model_for_inference(female_model_path)"
   ]
  },
  {
   "cell_type": "markdown",
   "metadata": {},
   "source": [
    "#### Transform dataset"
   ]
  },
  {
   "cell_type": "code",
   "execution_count": 10,
   "metadata": {},
   "outputs": [],
   "source": [
    "data = prepare_input(dataset, female_model, male_model)"
   ]
  },
  {
   "cell_type": "code",
   "execution_count": 11,
   "metadata": {},
   "outputs": [
    {
     "name": "stdout",
     "output_type": "stream",
     "text": [
      "num Patients: 13707\n",
      "Observers: ['female', 'male']\n",
      "Classes: [0, 1]\n",
      "Iter\tlog-likelihood\tdelta-CM\tdelta-ER\n",
      "1 \t -14253.315573351305\n",
      "2 \t -14250.461496730466 \t0.000038\t0.025316\n",
      "3 \t -14250.418910985853 \t0.000005\t0.003141\n",
      "4 \t -14250.41821090512 \t0.000001\t0.000403\n",
      "5 \t -14250.41819926299 \t0.000000\t0.000052\n",
      "6 \t -14250.418199067128 \t0.000000\t0.000007\n",
      "Class marginals\n",
      "[0.45 0.55]\n",
      "Error rates\n",
      "[[[0.94 0.06]\n",
      "  [0.06 0.94]]\n",
      "\n",
      " [[0.92 0.08]\n",
      "  [0.05 0.95]]]\n",
      "Incidence-of-error rates\n",
      "[[0.42 0.03]\n",
      " [0.03 0.52]]\n",
      "[[0.41 0.04]\n",
      " [0.02 0.53]]\n"
     ]
    }
   ],
   "source": [
    "patients, observers, classes, counts, class_marginals, error_rates, patient_classes = ds.run(data)"
   ]
  },
  {
   "cell_type": "markdown",
   "metadata": {},
   "source": [
    "#### Visualize"
   ]
  },
  {
   "cell_type": "code",
   "execution_count": 14,
   "metadata": {},
   "outputs": [
    {
     "name": "stderr",
     "output_type": "stream",
     "text": [
      "[autoreload of six failed: Traceback (most recent call last):\n",
      "  File \"/usr/local/lib/python3.7/site-packages/IPython/extensions/autoreload.py\", line 245, in check\n",
      "    superreload(m, reload, self.old_objects)\n",
      "  File \"/usr/local/lib/python3.7/site-packages/IPython/extensions/autoreload.py\", line 410, in superreload\n",
      "    update_generic(old_obj, new_obj)\n",
      "  File \"/usr/local/lib/python3.7/site-packages/IPython/extensions/autoreload.py\", line 347, in update_generic\n",
      "    update(a, b)\n",
      "  File \"/usr/local/lib/python3.7/site-packages/IPython/extensions/autoreload.py\", line 287, in update_class\n",
      "    old_obj = getattr(old, key)\n",
      "  File \"/usr/local/lib/python3.7/site-packages/six.py\", line 93, in __get__\n",
      "    setattr(obj, self.name, result)  # Invokes __set__.\n",
      "AttributeError: 'NoneType' object has no attribute 'cStringIO'\n",
      "]\n"
     ]
    }
   ],
   "source": [
    "import matplotlib.pyplot as plt\n",
    "import seaborn as sns\n",
    "import math\n",
    "\n",
    "def plot_error_matrices(error_rates, observers, class_marginals):\n",
    "    nrows, ncols = int(math.ceil(len(observers)/3)), 3\n",
    "    f, axs = plt.subplots(nrows=nrows, ncols=ncols, figsize=(ncols*5,nrows*5))\n",
    "    for i, obs in enumerate(observers):\n",
    "        error_rate = error_rates[i]\n",
    "        incidence_of_error_rate = class_marginals * error_rate\n",
    "        \n",
    "        sns.heatmap(error_rate, vmin=0, vmax=1, annot=True, cbar=False, ax=axs.flat[i])\n",
    "        axs.flat[i].set_title(f'Error rate \\n {obs}')\n",
    "        axs.flat[i].set_xlabel('Predicter label (Observer label)')\n",
    "        axs.flat[i].set_ylabel('Latent truth')\n",
    "    plt.show(f)"
   ]
  },
  {
   "cell_type": "code",
   "execution_count": 15,
   "metadata": {},
   "outputs": [
    {
     "data": {
      "image/png": "[encoded data removed]",
      "text/plain": [
       "<Figure size 1080x360 with 3 Axes>"
      ]
     },
     "metadata": {
      "needs_background": "light"
     },
     "output_type": "display_data"
    }
   ],
   "source": [
    "plot_error_matrices(error_rates, observers, class_marginals)"
   ]
  },
  {
   "cell_type": "code",
   "execution_count": null,
   "metadata": {},
   "outputs": [],
   "source": []
  }
 ],
 "metadata": {
  "kernelspec": {
   "display_name": "Python 3",
   "language": "python",
   "name": "python3"
  },
  "language_info": {
   "codemirror_mode": {
    "name": "ipython",
    "version": 3
   },
   "file_extension": ".py",
   "mimetype": "text/x-python",
   "name": "python",
   "nbconvert_exporter": "python",
   "pygments_lexer": "ipython3",
   "version": "3.7.4"
  }
 },
 "nbformat": 4,
 "nbformat_minor": 4
}
