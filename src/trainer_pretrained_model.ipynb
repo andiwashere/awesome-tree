{
 "cells": [
  {
   "cell_type": "code",
   "execution_count": null,
   "metadata": {},
   "outputs": [
    {
     "name": "stdout",
     "output_type": "stream",
     "text": [
      "Collecting git+https://github.com/huggingface/transformers\r\n",
      "  Cloning https://github.com/huggingface/transformers to /tmp/pip-req-build-ii95udvl\r\n",
      "  Running command git clone -q https://github.com/huggingface/transformers /tmp/pip-req-build-ii95udvl\r\n"
     ]
    }
   ],
   "source": [
    "# Clone the transformers git repository. (Fork it if public!)\n",
    "!pip install git+https://github.com/huggingface/transformers\n",
    "!git clone https://github.com/huggingface/transformers"
   ]
  },
  {
   "cell_type": "code",
   "execution_count": null,
   "metadata": {},
   "outputs": [],
   "source": [
    "from transformers import AutoConfig, AutoTokenizer, AutoModel\n",
    "from transformers import EvalPrediction, TrainingArguments\n",
    "from datasets.tripadvisor import TripAdvisorDataset\n",
    "\n",
    "# global variables:\n",
    "model_name=\"allenai/longformer-large-4096\"\n",
    "num_labels = 9"
   ]
  },
  {
   "cell_type": "code",
   "execution_count": null,
   "metadata": {},
   "outputs": [],
   "source": [
    "# From huggingface tutorials: https://huggingface.co/transformers/examples.html\n",
    "\n",
    "class ModelArguments:\n",
    "    \"\"\"\n",
    "    Arguments required to fine-tune the model\n",
    "    \"\"\"\n",
    "    model_name_or_path: str = field(\n",
    "        metadata={\"help\": \"Path to pretrained model or model identifier from huggingface.co/models\"}\n",
    "    )\n",
    "    config_name: Optional[str] = field(\n",
    "        default=None, metadata={\"help\": \"Pretrained config name or path if not the same as model_name\"}\n",
    "    )\n",
    "    tokenizer_name: Optional[str] = field(\n",
    "        default=None, metadata={\"help\": \"Pretrained tokenizer name or path if not the same as model_name\"}\n",
    "    )\n",
    "    cache_dir: Optional[str] = field(\n",
    "        default=None, metadata={\"help\": \"Where do you want to store the pretrained models downloaded from s3\"}\n",
    "    )"
   ]
  },
  {
   "cell_type": "code",
   "execution_count": null,
   "metadata": {},
   "outputs": [],
   "source": [
    "dataset = TripAdvisorDataset(text_processor='word2vec', text_processor_filters=['lowercase', 'stopwordsfilter'])\n",
    "\n",
    "# Use model_args to add config settings. Else use Automodel directly!\n",
    "model_args = ModelArguments(model_name_or_path = model_name)\n",
    "\n",
    "# For now (simplicity) we use Automodel:\n",
    "tokenizer = Autotokenizer.from_pretrained(model_name)\n",
    "model=Automodel.from_pretrained(model_name)\n",
    "\n",
    "# solver arguments:\n",
    "solver_args =\n",
    "(\n",
    "    dataset=dataset,\n",
    "    learning_rate=0.03,\n",
    "    batch_size=32,\n",
    "    pretrained_model=model,\n",
    "    # output_dir=f\"/models/{model_name}\",\n",
    ")"
   ]
  },
  {
   "cell_type": "code",
   "execution_count": null,
   "metadata": {},
   "outputs": [],
   "source": [
    "solver(dataset)"
   ]
  },
  {
   "cell_type": "code",
   "execution_count": null,
   "metadata": {},
   "outputs": [],
   "source": []
  }
 ],
 "metadata": {
  "kernelspec": {
   "display_name": "Python 3",
   "language": "python",
   "name": "python3"
  },
  "language_info": {
   "codemirror_mode": {
    "name": "ipython",
    "version": 3
   },
   "file_extension": ".py",
   "mimetype": "text/x-python",
   "name": "python",
   "nbconvert_exporter": "python",
   "pygments_lexer": "ipython3",
   "version": "3.7.6"
  }
 },
 "nbformat": 4,
 "nbformat_minor": 4
}
